{
 "cells": [
  {
   "cell_type": "markdown",
   "id": "a6b3ad32-f238-413a-9f5a-eb8e9a84cf88",
   "metadata": {
    "tags": []
   },
   "source": [
    "<h1> Data Science Tools and Ecosystem </h1>"
   ]
  },
  {
   "cell_type": "markdown",
   "id": "a13a0b42-9641-420d-8bb3-f9d35d98c032",
   "metadata": {},
   "source": [
    "<h2> Author </h2>"
   ]
  },
  {
   "cell_type": "markdown",
   "id": "235bee07-6c4b-4047-befe-55789d30f3be",
   "metadata": {},
   "source": [
    "S.Dinesh Kumar"
   ]
  },
  {
   "cell_type": "markdown",
   "id": "162160de-05ed-466d-afc5-902f51ccbd8f",
   "metadata": {
    "tags": []
   },
   "source": [
    "<p>In this notebook, Data Science Tools and Ecosystem are summarized.</p>"
   ]
  },
  {
   "cell_type": "markdown",
   "id": "ab7d3df9-7a9a-4bd3-b2f6-b0f7546166d8",
   "metadata": {},
   "source": [
    "Objectives: The objective of this notebook is to provide a comprehensive overview of the essential tools and ecosystems in the field of data science, emphasizing programming languages, libraries, and open-source tools commonly utilized by data scientists"
   ]
  },
  {
   "cell_type": "markdown",
   "id": "86a68da5-7009-4205-996d-7425f5fb1343",
   "metadata": {},
   "source": [
    "Some of the popular languages that Data Scientists use are:\n",
    "\n",
    "1. Python\n",
    "\n",
    "2. R Language\n",
    "\n",
    "3. SQL"
   ]
  },
  {
   "cell_type": "markdown",
   "id": "d3a191f0-5999-43bf-ba3d-7de6da62a19f",
   "metadata": {},
   "source": [
    "Some of the commonly used libraries used by Data Scientists include:\n",
    "\n",
    "data science, you can use Python's scientific computing libraries like \n",
    "\n",
    "1.Pandas\n",
    "\n",
    "2.NumPy\n",
    "\n",
    "3.SciPy \n",
    "\n",
    "4.Matplotlib\n",
    "\n",
    "Artificial intelligence, it has \n",
    "\n",
    "1.TensorFlow \n",
    "\n",
    "2.PyTorch \n",
    "\n",
    "3.Keras \n",
    "\n",
    "4.Scikit-learn.\n"
   ]
  },
  {
   "cell_type": "markdown",
   "id": "55ae8266-e308-4f76-afc3-0a65956c3ffb",
   "metadata": {},
   "source": [
    "Raw data must pass through various Data Science task categories, such as data management, data integration and transformation, data visualization, model building, model deployment, and model monitoring and assessment\n",
    "so it requires open-source data management tools.\n",
    "\n",
    "| Data Science Tools |\n",
    "|---------|\n",
    "|   MySQL |\n",
    "|   Apache AirFlow |\n",
    "|   Pixie Dust  |\n",
    "|   Apache PredictionIO |\n",
    "|   IBM AI Fairness 360 |\n"
   ]
  },
  {
   "cell_type": "markdown",
   "id": "b259e96f-288c-4a28-9a79-3c136090ec64",
   "metadata": {},
   "source": [
    "Below are a few examples of evaluating arithmetic expressions in Python\n"
   ]
  },
  {
   "cell_type": "code",
   "execution_count": 18,
   "id": "6e0e85ca-6170-4725-97e3-17c42b070741",
   "metadata": {},
   "outputs": [
    {
     "data": {
      "text/plain": [
       "17"
      ]
     },
     "execution_count": 18,
     "metadata": {},
     "output_type": "execute_result"
    }
   ],
   "source": [
    "#This a simple arithmetic expression to mutiply then add integers\n",
    "(3*4)+5"
   ]
  },
  {
   "cell_type": "code",
   "execution_count": 21,
   "id": "c431bb77-c751-4599-aa58-b7b7e9590c49",
   "metadata": {},
   "outputs": [
    {
     "data": {
      "text/plain": [
       "3.3333333333333335"
      ]
     },
     "execution_count": 21,
     "metadata": {},
     "output_type": "execute_result"
    }
   ],
   "source": [
    "# This will convert 200 minutes to hours by diving by 60\n",
    "200/60"
   ]
  },
  {
   "cell_type": "code",
   "execution_count": null,
   "id": "16b3ddba-0294-4788-9a1b-9ae890dd08d7",
   "metadata": {},
   "outputs": [],
   "source": []
  }
 ],
 "metadata": {
  "kernelspec": {
   "display_name": "anaconda-panel-2023.05-py310",
   "language": "python",
   "name": "conda-env-anaconda-panel-2023.05-py310-py"
  },
  "language_info": {
   "codemirror_mode": {
    "name": "ipython",
    "version": 3
   },
   "file_extension": ".py",
   "mimetype": "text/x-python",
   "name": "python",
   "nbconvert_exporter": "python",
   "pygments_lexer": "ipython3",
   "version": "3.11.5"
  }
 },
 "nbformat": 4,
 "nbformat_minor": 5
}
